{
 "cells": [
  {
   "cell_type": "markdown",
   "id": "7b7e9978-6e45-4fdc-a46b-c7bdf5cae890",
   "metadata": {},
   "source": [
    "# Data Science Tools and Ecosystem"
   ]
  },
  {
   "cell_type": "markdown",
   "id": "1f071e73-cc83-4c09-9386-37962ebedc71",
   "metadata": {},
   "source": [
    "## Author\n",
    "\n",
    "Mike"
   ]
  },
  {
   "cell_type": "markdown",
   "id": "cf40452e-a4e3-4496-93de-94d0eba2aa6b",
   "metadata": {},
   "source": [
    "## In this notebook, Data Science Tools and Ecosystem are summarized."
   ]
  },
  {
   "cell_type": "markdown",
   "id": "35216c42-03cb-4c5d-805b-4f5e2f4372b2",
   "metadata": {},
   "source": [
    "**Objectives:**\n",
    "\n",
    "- List popular languages for data scientists\n",
    "- List popular libraries for data scientists\n",
    "- list popular tools for data scientists\n",
    "- perform some basic arithmetic\n",
    "- perform basic time conversion"
   ]
  },
  {
   "cell_type": "markdown",
   "id": "cb1d3b55-b50f-4ab4-9f19-bc4653c7aecf",
   "metadata": {},
   "source": [
    "## Some of the popular languages that Data Scientists use are:"
   ]
  },
  {
   "cell_type": "code",
   "execution_count": 4,
   "id": "4974305d-6b9c-4477-a174-60c4dda7f6a3",
   "metadata": {},
   "outputs": [
    {
     "data": {
      "text/plain": [
       "['Python', 'Julia', 'R']"
      ]
     },
     "execution_count": 4,
     "metadata": {},
     "output_type": "execute_result"
    }
   ],
   "source": [
    "data_science_languages = [\"Python\", \"Julia\", \"R\"]\n",
    "data_science_languages"
   ]
  },
  {
   "cell_type": "markdown",
   "id": "e0a8fcd3-7b5a-4152-8c22-a7c53901eb3c",
   "metadata": {},
   "source": [
    "## Some of the commonly used libraries used by Data Scientists include:"
   ]
  },
  {
   "cell_type": "code",
   "execution_count": 8,
   "id": "6b78986a-0c7a-42b3-8705-8d8cd2bcf97f",
   "metadata": {},
   "outputs": [
    {
     "data": {
      "text/plain": [
       "['Pandas', 'Matplotlib', 'TensorFlow']"
      ]
     },
     "execution_count": 8,
     "metadata": {},
     "output_type": "execute_result"
    }
   ],
   "source": [
    "data_science_libraries = [\"Pandas\", \"Matplotlib\", \"TensorFlow\"]\n",
    "data_science_libraries"
   ]
  },
  {
   "cell_type": "markdown",
   "id": "f8c19066-1a7b-4118-82bd-4c697ef10b58",
   "metadata": {},
   "source": [
    "## Data Science Tools"
   ]
  },
  {
   "cell_type": "markdown",
   "id": "17031340-e65d-40bf-86d5-ee80e1c537fd",
   "metadata": {},
   "source": [
    "| Data Science Tools |\n",
    "|--------------------|\n",
    "|Jupyter Notebook    |\n",
    "|RStudio             |\n",
    "|Apache Spark        |"
   ]
  },
  {
   "cell_type": "markdown",
   "id": "8af67939-8114-4477-8714-534106fac11b",
   "metadata": {},
   "source": [
    "### Below are a few examples of evaluating arithmetic expressions in Python"
   ]
  },
  {
   "cell_type": "code",
   "execution_count": 23,
   "id": "74747d94-e82f-4447-9a57-339b9c993a45",
   "metadata": {},
   "outputs": [],
   "source": [
    "# This a simple arithmetic expression to mutiply then add integers"
   ]
  },
  {
   "cell_type": "code",
   "execution_count": 21,
   "id": "7fd5b7b2-7479-426e-aec4-29b2e6bd38ec",
   "metadata": {},
   "outputs": [
    {
     "data": {
      "text/plain": [
       "17"
      ]
     },
     "execution_count": 21,
     "metadata": {},
     "output_type": "execute_result"
    }
   ],
   "source": [
    "(3*4)+5"
   ]
  },
  {
   "cell_type": "code",
   "execution_count": 27,
   "id": "8fcf8448-bd0e-41d9-833e-53407357d5a2",
   "metadata": {},
   "outputs": [],
   "source": [
    "# minutes to hours conversion"
   ]
  },
  {
   "cell_type": "code",
   "execution_count": 43,
   "id": "a3b8ebbe-03d4-4033-a083-2a9707b2ab63",
   "metadata": {},
   "outputs": [],
   "source": [
    "# This will convert 200 minutes to hours by diving by 60"
   ]
  },
  {
   "cell_type": "code",
   "execution_count": 41,
   "id": "97aeab98-9bbe-44e0-977b-bf2b6f94276c",
   "metadata": {},
   "outputs": [
    {
     "name": "stdout",
     "output_type": "stream",
     "text": [
      "3.33 hours\n"
     ]
    }
   ],
   "source": [
    "minutes = 200\n",
    "hours_raw = minutes/60\n",
    "formatted_hours = \"{:.2f}\".format(hours_raw)\n",
    "hours = str(formatted_hours) + \" hours\"\n",
    "print(hours)"
   ]
  },
  {
   "cell_type": "code",
   "execution_count": null,
   "id": "22fea36b-7893-4eeb-a225-b6b932e768d3",
   "metadata": {},
   "outputs": [],
   "source": []
  }
 ],
 "metadata": {
  "kernelspec": {
   "display_name": "Python 3 (ipykernel)",
   "language": "python",
   "name": "python3"
  },
  "language_info": {
   "codemirror_mode": {
    "name": "ipython",
    "version": 3
   },
   "file_extension": ".py",
   "mimetype": "text/x-python",
   "name": "python",
   "nbconvert_exporter": "python",
   "pygments_lexer": "ipython3",
   "version": "3.12.2"
  }
 },
 "nbformat": 4,
 "nbformat_minor": 5
}
